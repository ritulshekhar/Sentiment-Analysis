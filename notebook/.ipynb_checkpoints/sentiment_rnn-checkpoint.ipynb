{
 "cells": [
  {
   "cell_type": "code",
   "execution_count": 1,
   "id": "b8d3fb2e-3946-49de-89c8-08846f077109",
   "metadata": {},
   "outputs": [
    {
     "name": "stdout",
     "output_type": "stream",
     "text": [
      "Index(['clean_text', 'category'], dtype='object')\n"
     ]
    },
    {
     "data": {
      "text/html": [
       "<div>\n",
       "<style scoped>\n",
       "    .dataframe tbody tr th:only-of-type {\n",
       "        vertical-align: middle;\n",
       "    }\n",
       "\n",
       "    .dataframe tbody tr th {\n",
       "        vertical-align: top;\n",
       "    }\n",
       "\n",
       "    .dataframe thead th {\n",
       "        text-align: right;\n",
       "    }\n",
       "</style>\n",
       "<table border=\"1\" class=\"dataframe\">\n",
       "  <thead>\n",
       "    <tr style=\"text-align: right;\">\n",
       "      <th></th>\n",
       "      <th>clean_text</th>\n",
       "      <th>category</th>\n",
       "    </tr>\n",
       "  </thead>\n",
       "  <tbody>\n",
       "    <tr>\n",
       "      <th>0</th>\n",
       "      <td>when modi promised “minimum government maximum...</td>\n",
       "      <td>-1.0</td>\n",
       "    </tr>\n",
       "    <tr>\n",
       "      <th>1</th>\n",
       "      <td>talk all the nonsense and continue all the dra...</td>\n",
       "      <td>0.0</td>\n",
       "    </tr>\n",
       "    <tr>\n",
       "      <th>2</th>\n",
       "      <td>what did just say vote for modi  welcome bjp t...</td>\n",
       "      <td>1.0</td>\n",
       "    </tr>\n",
       "    <tr>\n",
       "      <th>3</th>\n",
       "      <td>asking his supporters prefix chowkidar their n...</td>\n",
       "      <td>1.0</td>\n",
       "    </tr>\n",
       "    <tr>\n",
       "      <th>4</th>\n",
       "      <td>answer who among these the most powerful world...</td>\n",
       "      <td>1.0</td>\n",
       "    </tr>\n",
       "  </tbody>\n",
       "</table>\n",
       "</div>"
      ],
      "text/plain": [
       "                                          clean_text  category\n",
       "0  when modi promised “minimum government maximum...      -1.0\n",
       "1  talk all the nonsense and continue all the dra...       0.0\n",
       "2  what did just say vote for modi  welcome bjp t...       1.0\n",
       "3  asking his supporters prefix chowkidar their n...       1.0\n",
       "4  answer who among these the most powerful world...       1.0"
      ]
     },
     "execution_count": 1,
     "metadata": {},
     "output_type": "execute_result"
    }
   ],
   "source": [
    "import pandas as pd\n",
    "\n",
    "df = pd.read_csv('../data/twitter_dataset.csv')\n",
    "print(df.columns)\n",
    "df.head()"
   ]
  },
  {
   "cell_type": "code",
   "execution_count": 4,
   "id": "1517be8f-ec12-418f-b0db-2e5a57186ae8",
   "metadata": {},
   "outputs": [
    {
     "name": "stdout",
     "output_type": "stream",
     "text": [
      "TensorFlow version: 2.19.0\n",
      "GPU Available: []\n"
     ]
    }
   ],
   "source": [
    "import numpy as np\n",
    "import pandas as pd\n",
    "import matplotlib.pyplot as plt\n",
    "import seaborn as sns\n",
    "from sklearn.model_selection import train_test_split\n",
    "from sklearn.metrics import accuracy_score, classification_report, confusion_matrix\n",
    "import tensorflow as tf\n",
    "from tensorflow.keras.models import Sequential\n",
    "from tensorflow.keras.layers import LSTM, Dense, Embedding, Dropout, SpatialDropout1D\n",
    "from tensorflow.keras.preprocessing.text import Tokenizer\n",
    "from tensorflow.keras.preprocessing.sequence import pad_sequences\n",
    "from tensorflow.keras.utils import to_categorical\n",
    "from tensorflow.keras.callbacks import EarlyStopping, ModelCheckpoint\n",
    "import re\n",
    "import string\n",
    "from collections import Counter\n",
    "import warnings\n",
    "warnings.filterwarnings('ignore')\n",
    "\n",
    "# Fix SSL certificate issues (common on macOS)\n",
    "import ssl\n",
    "import urllib.request\n",
    "import certifi\n",
    "\n",
    "# Create SSL context with proper certificates\n",
    "ssl_context = ssl.create_default_context(cafile=certifi.where())\n",
    "urllib.request.install_opener(urllib.request.build_opener(urllib.request.HTTPSHandler(context=ssl_context)))\n",
    "\n",
    "print(\"TensorFlow version:\", tf.__version__)\n",
    "print(\"GPU Available:\", tf.config.list_physical_devices('GPU'))"
   ]
  },
  {
   "cell_type": "code",
   "execution_count": 5,
   "id": "39b2edc7-20b5-478b-bc28-bbb885c02b9d",
   "metadata": {},
   "outputs": [
    {
     "name": "stdout",
     "output_type": "stream",
     "text": [
      "Attempting to load IMDB dataset...\n",
      "Downloading data from https://storage.googleapis.com/tensorflow/tf-keras-datasets/imdb.npz\n",
      "\u001b[1m17464789/17464789\u001b[0m \u001b[32m━━━━━━━━━━━━━━━━━━━━\u001b[0m\u001b[37m\u001b[0m \u001b[1m15s\u001b[0m 1us/step\n",
      "Downloading data from https://storage.googleapis.com/tensorflow/tf-keras-datasets/imdb_word_index.json\n",
      "\u001b[1m1641221/1641221\u001b[0m \u001b[32m━━━━━━━━━━━━━━━━━━━━\u001b[0m\u001b[37m\u001b[0m \u001b[1m2s\u001b[0m 1us/step\n",
      "Data type: imdb\n",
      "Training samples: 25000\n",
      "Testing samples: 25000\n",
      "Number of unique words: 88584\n",
      "Example review: ? this film was just brilliant casting location scenery story direction everyone's really suited the part they played and you could just imagine being there robert ? is an amazing actor and now the same being director ? father came from the same scottish island as myself so i loved the fact there was a real connection with this film the witty remarks throughout the film were great it was just brilliant so much that i bought the film as soon as it was released for ? and would recommend it to everyone to watch and the fly fishing was amazing really cried at the end it was so sad and you know what they say if you cry at a film it must have been good and this definitely was also ? to the two little boy's that played the ? of norman and paul they were just brilliant children are often left out of the ? list i think because the stars that play them all grown up are such a big profile for the whole film but these children are amazing and should be praised for what they have done don't you think the whole story was so lovely because it was true and was someone's life after all that was shared with us all\n",
      "Label: 1\n"
     ]
    }
   ],
   "source": [
    "def load_imdb_data():\n",
    "    \"\"\"Load IMDB data with multiple fallback options\"\"\"\n",
    "    try:\n",
    "        # Option 1: Try loading IMDB dataset directly\n",
    "        print(\"Attempting to load IMDB dataset...\")\n",
    "        imdb = tf.keras.datasets.imdb\n",
    "        (x_train, y_train), (x_test, y_test) = imdb.load_data(num_words=10000)\n",
    "        word_index = imdb.get_word_index()\n",
    "        return x_train, y_train, x_test, y_test, word_index, \"imdb\"\n",
    "    except Exception as e:\n",
    "        print(f\"Failed to load IMDB dataset: {e}\")\n",
    "        print(\"Trying alternative methods...\")\n",
    "        \n",
    "        # Option 2: Create synthetic data for testing\n",
    "        print(\"Creating synthetic sentiment data for testing...\")\n",
    "        return create_synthetic_data()\n",
    "\n",
    "def create_synthetic_data():\n",
    "    \"\"\"Create synthetic sentiment data for testing purposes\"\"\"\n",
    "    # Sample positive and negative reviews\n",
    "    positive_texts = [\n",
    "        \"This movie was absolutely fantastic and amazing\",\n",
    "        \"I loved every minute of this incredible film\",\n",
    "        \"Outstanding performance by all the actors\",\n",
    "        \"Brilliant storyline and excellent direction\",\n",
    "        \"Highly recommend this masterpiece to everyone\",\n",
    "        \"Perfect blend of action and emotion\",\n",
    "        \"The best movie I have ever seen\",\n",
    "        \"Wonderful cinematography and great music\",\n",
    "        \"Exceptional acting and compelling plot\",\n",
    "        \"This film exceeded all my expectations\"\n",
    "    ] * 100  # Repeat to create more samples\n",
    "    \n",
    "    negative_texts = [\n",
    "        \"This movie was terrible and boring\",\n",
    "        \"Waste of time and money, very disappointing\",\n",
    "        \"Poor acting and weak storyline\",\n",
    "        \"Completely predictable and uninteresting\",\n",
    "        \"The worst film I have ever watched\",\n",
    "        \"Terrible direction and bad script\",\n",
    "        \"Boring plot with no character development\",\n",
    "        \"Poorly executed and uninspiring\",\n",
    "        \"Disappointing performance by the actors\",\n",
    "        \"Avoid this movie at all costs\"\n",
    "    ] * 100  # Repeat to create more samples\n",
    "    \n",
    "    # Create labels\n",
    "    labels = [1] * len(positive_texts) + [0] * len(negative_texts)\n",
    "    texts = positive_texts + negative_texts\n",
    "    \n",
    "    # Tokenize\n",
    "    tokenizer = Tokenizer(num_words=10000, oov_token='<OOV>')\n",
    "    tokenizer.fit_on_texts(texts)\n",
    "    sequences = tokenizer.texts_to_sequences(texts)\n",
    "    \n",
    "    # Split data\n",
    "    x_train, x_test, y_train, y_test = train_test_split(\n",
    "        sequences, labels, test_size=0.2, random_state=42, stratify=labels\n",
    "    )\n",
    "    \n",
    "    return x_train, y_train, x_test, y_test, tokenizer.word_index, \"synthetic\"\n",
    "\n",
    "# Load data\n",
    "x_train, y_train, x_test, y_test, word_index, data_type = load_imdb_data()\n",
    "\n",
    "print(f\"Data type: {data_type}\")\n",
    "print(f\"Training samples: {len(x_train)}\")\n",
    "print(f\"Testing samples: {len(x_test)}\")\n",
    "print(f\"Number of unique words: {len(word_index)}\")\n",
    "\n",
    "# Function to decode reviews (works for both IMDB and synthetic data)\n",
    "def decode_review(text, word_index, data_type):\n",
    "    if data_type == \"imdb\":\n",
    "        reverse_word_index = dict([(value, key) for (key, value) in word_index.items()])\n",
    "        return ' '.join([reverse_word_index.get(i - 3, '?') for i in text])\n",
    "    else:\n",
    "        reverse_word_index = dict([(value, key) for (key, value) in word_index.items()])\n",
    "        return ' '.join([reverse_word_index.get(i, '?') for i in text])\n",
    "\n",
    "# Display example\n",
    "if len(x_train) > 0:\n",
    "    print(f\"Example review: {decode_review(x_train[0], word_index, data_type)}\")\n",
    "    print(f\"Label: {y_train[0]}\")"
   ]
  },
  {
   "cell_type": "code",
   "execution_count": 6,
   "id": "ba0c4dd2-9787-4ba9-9f6f-f337fc876dfa",
   "metadata": {},
   "outputs": [
    {
     "name": "stdout",
     "output_type": "stream",
     "text": [
      "Training data shape: (25000, 100)\n",
      "Testing data shape: (25000, 100)\n",
      "Max sequence length: 100\n",
      "Training label distribution: {np.int64(0): np.int64(12500), np.int64(1): np.int64(12500)}\n",
      "Testing label distribution: {np.int64(0): np.int64(12500), np.int64(1): np.int64(12500)}\n"
     ]
    }
   ],
   "source": [
    "max_length = 100  # Reduced for synthetic data, increase to 500 for real IMDB data\n",
    "\n",
    "# Convert to numpy arrays if needed\n",
    "x_train = np.array(x_train)\n",
    "y_train = np.array(y_train)\n",
    "x_test = np.array(x_test)\n",
    "y_test = np.array(y_test)\n",
    "\n",
    "# Pad sequences\n",
    "x_train = pad_sequences(x_train, maxlen=max_length, padding='post', truncating='post')\n",
    "x_test = pad_sequences(x_test, maxlen=max_length, padding='post', truncating='post')\n",
    "\n",
    "print(f\"Training data shape: {x_train.shape}\")\n",
    "print(f\"Testing data shape: {x_test.shape}\")\n",
    "print(f\"Max sequence length: {max_length}\")\n",
    "\n",
    "# Check data distribution\n",
    "unique, counts = np.unique(y_train, return_counts=True)\n",
    "print(f\"Training label distribution: {dict(zip(unique, counts))}\")\n",
    "unique, counts = np.unique(y_test, return_counts=True)\n",
    "print(f\"Testing label distribution: {dict(zip(unique, counts))}\")"
   ]
  },
  {
   "cell_type": "code",
   "execution_count": 7,
   "id": "cd66c95a-5ce0-4ca2-b360-3a71da94cffe",
   "metadata": {},
   "outputs": [
    {
     "name": "stdout",
     "output_type": "stream",
     "text": [
      "Training data shape: (25000, 100)\n",
      "Testing data shape: (25000, 100)\n",
      "Max sequence length: 100\n",
      "Training label distribution: {np.int64(0): np.int64(12500), np.int64(1): np.int64(12500)}\n",
      "Testing label distribution: {np.int64(0): np.int64(12500), np.int64(1): np.int64(12500)}\n"
     ]
    }
   ],
   "source": [
    "max_length = 100  # Reduced for synthetic data, increase to 500 for real IMDB data\n",
    "\n",
    "# Convert to numpy arrays if needed\n",
    "x_train = np.array(x_train)\n",
    "y_train = np.array(y_train)\n",
    "x_test = np.array(x_test)\n",
    "y_test = np.array(y_test)\n",
    "\n",
    "# Pad sequences\n",
    "x_train = pad_sequences(x_train, maxlen=max_length, padding='post', truncating='post')\n",
    "x_test = pad_sequences(x_test, maxlen=max_length, padding='post', truncating='post')\n",
    "\n",
    "print(f\"Training data shape: {x_train.shape}\")\n",
    "print(f\"Testing data shape: {x_test.shape}\")\n",
    "print(f\"Max sequence length: {max_length}\")\n",
    "\n",
    "# Check data distribution\n",
    "unique, counts = np.unique(y_train, return_counts=True)\n",
    "print(f\"Training label distribution: {dict(zip(unique, counts))}\")\n",
    "unique, counts = np.unique(y_test, return_counts=True)\n",
    "print(f\"Testing label distribution: {dict(zip(unique, counts))}\")"
   ]
  },
  {
   "cell_type": "code",
   "execution_count": 8,
   "id": "b27e59c9-2239-4c0d-977a-1acbb53160ba",
   "metadata": {},
   "outputs": [
    {
     "data": {
      "text/plain": [
       "'\\n# If you have a CSV file with \\'text\\' and \\'sentiment\\' columns\\ndf = pd.read_csv(\\'sentiment_data.csv\\')\\nprint(f\"Dataset shape: {df.shape}\")\\nprint(df.head())\\nprint(df[\\'sentiment\\'].value_counts())\\n\\n# Text preprocessing function\\ndef preprocess_text(text):\\n    # Convert to lowercase\\n    text = text.lower()\\n    # Remove punctuation\\n    text = text.translate(str.maketrans(\\'\\', \\'\\', string.punctuation))\\n    # Remove extra whitespace\\n    text = \\' \\'.join(text.split())\\n    return text\\n\\n# Apply preprocessing\\ndf[\\'cleaned_text\\'] = df[\\'text\\'].apply(preprocess_text)\\n\\n# Tokenization\\ntokenizer = Tokenizer(num_words=10000, oov_token=\\'<OOV>\\')\\ntokenizer.fit_on_texts(df[\\'cleaned_text\\'])\\nsequences = tokenizer.texts_to_sequences(df[\\'cleaned_text\\'])\\n\\n# Pad sequences\\nmax_length = 500\\npadded_sequences = pad_sequences(sequences, maxlen=max_length, padding=\\'post\\', truncating=\\'post\\')\\n\\n# Prepare labels\\nlabel_mapping = {\\'positive\\': 1, \\'negative\\': 0}  # Adjust based on your labels\\ny = df[\\'sentiment\\'].map(label_mapping)\\n\\n# Split data\\nx_train, x_test, y_train, y_test = train_test_split(\\n    padded_sequences, y, test_size=0.2, random_state=42, stratify=y\\n)\\n'"
      ]
     },
     "execution_count": 8,
     "metadata": {},
     "output_type": "execute_result"
    }
   ],
   "source": [
    "\"\"\"\n",
    "# If you have a CSV file with 'text' and 'sentiment' columns\n",
    "df = pd.read_csv('sentiment_data.csv')\n",
    "print(f\"Dataset shape: {df.shape}\")\n",
    "print(df.head())\n",
    "print(df['sentiment'].value_counts())\n",
    "\n",
    "# Text preprocessing function\n",
    "def preprocess_text(text):\n",
    "    # Convert to lowercase\n",
    "    text = text.lower()\n",
    "    # Remove punctuation\n",
    "    text = text.translate(str.maketrans('', '', string.punctuation))\n",
    "    # Remove extra whitespace\n",
    "    text = ' '.join(text.split())\n",
    "    return text\n",
    "\n",
    "# Apply preprocessing\n",
    "df['cleaned_text'] = df['text'].apply(preprocess_text)\n",
    "\n",
    "# Tokenization\n",
    "tokenizer = Tokenizer(num_words=10000, oov_token='<OOV>')\n",
    "tokenizer.fit_on_texts(df['cleaned_text'])\n",
    "sequences = tokenizer.texts_to_sequences(df['cleaned_text'])\n",
    "\n",
    "# Pad sequences\n",
    "max_length = 500\n",
    "padded_sequences = pad_sequences(sequences, maxlen=max_length, padding='post', truncating='post')\n",
    "\n",
    "# Prepare labels\n",
    "label_mapping = {'positive': 1, 'negative': 0}  # Adjust based on your labels\n",
    "y = df['sentiment'].map(label_mapping)\n",
    "\n",
    "# Split data\n",
    "x_train, x_test, y_train, y_test = train_test_split(\n",
    "    padded_sequences, y, test_size=0.2, random_state=42, stratify=y\n",
    ")\n",
    "\"\"\""
   ]
  },
  {
   "cell_type": "code",
   "execution_count": 9,
   "id": "e761e365-0560-4151-91ea-7325b2425e5b",
   "metadata": {},
   "outputs": [
    {
     "data": {
      "text/html": [
       "<pre style=\"white-space:pre;overflow-x:auto;line-height:normal;font-family:Menlo,'DejaVu Sans Mono',consolas,'Courier New',monospace\"><span style=\"font-weight: bold\">Model: \"sequential\"</span>\n",
       "</pre>\n"
      ],
      "text/plain": [
       "\u001b[1mModel: \"sequential\"\u001b[0m\n"
      ]
     },
     "metadata": {},
     "output_type": "display_data"
    },
    {
     "data": {
      "text/html": [
       "<pre style=\"white-space:pre;overflow-x:auto;line-height:normal;font-family:Menlo,'DejaVu Sans Mono',consolas,'Courier New',monospace\">┏━━━━━━━━━━━━━━━━━━━━━━━━━━━━━━━━━┳━━━━━━━━━━━━━━━━━━━━━━━━┳━━━━━━━━━━━━━━━┓\n",
       "┃<span style=\"font-weight: bold\"> Layer (type)                    </span>┃<span style=\"font-weight: bold\"> Output Shape           </span>┃<span style=\"font-weight: bold\">       Param # </span>┃\n",
       "┡━━━━━━━━━━━━━━━━━━━━━━━━━━━━━━━━━╇━━━━━━━━━━━━━━━━━━━━━━━━╇━━━━━━━━━━━━━━━┩\n",
       "│ embedding (<span style=\"color: #0087ff; text-decoration-color: #0087ff\">Embedding</span>)           │ ?                      │   <span style=\"color: #00af00; text-decoration-color: #00af00\">0</span> (unbuilt) │\n",
       "├─────────────────────────────────┼────────────────────────┼───────────────┤\n",
       "│ spatial_dropout1d               │ ?                      │             <span style=\"color: #00af00; text-decoration-color: #00af00\">0</span> │\n",
       "│ (<span style=\"color: #0087ff; text-decoration-color: #0087ff\">SpatialDropout1D</span>)              │                        │               │\n",
       "├─────────────────────────────────┼────────────────────────┼───────────────┤\n",
       "│ lstm (<span style=\"color: #0087ff; text-decoration-color: #0087ff\">LSTM</span>)                     │ ?                      │   <span style=\"color: #00af00; text-decoration-color: #00af00\">0</span> (unbuilt) │\n",
       "├─────────────────────────────────┼────────────────────────┼───────────────┤\n",
       "│ dense (<span style=\"color: #0087ff; text-decoration-color: #0087ff\">Dense</span>)                   │ ?                      │   <span style=\"color: #00af00; text-decoration-color: #00af00\">0</span> (unbuilt) │\n",
       "├─────────────────────────────────┼────────────────────────┼───────────────┤\n",
       "│ dropout (<span style=\"color: #0087ff; text-decoration-color: #0087ff\">Dropout</span>)               │ ?                      │             <span style=\"color: #00af00; text-decoration-color: #00af00\">0</span> │\n",
       "├─────────────────────────────────┼────────────────────────┼───────────────┤\n",
       "│ dense_1 (<span style=\"color: #0087ff; text-decoration-color: #0087ff\">Dense</span>)                 │ ?                      │   <span style=\"color: #00af00; text-decoration-color: #00af00\">0</span> (unbuilt) │\n",
       "└─────────────────────────────────┴────────────────────────┴───────────────┘\n",
       "</pre>\n"
      ],
      "text/plain": [
       "┏━━━━━━━━━━━━━━━━━━━━━━━━━━━━━━━━━┳━━━━━━━━━━━━━━━━━━━━━━━━┳━━━━━━━━━━━━━━━┓\n",
       "┃\u001b[1m \u001b[0m\u001b[1mLayer (type)                   \u001b[0m\u001b[1m \u001b[0m┃\u001b[1m \u001b[0m\u001b[1mOutput Shape          \u001b[0m\u001b[1m \u001b[0m┃\u001b[1m \u001b[0m\u001b[1m      Param #\u001b[0m\u001b[1m \u001b[0m┃\n",
       "┡━━━━━━━━━━━━━━━━━━━━━━━━━━━━━━━━━╇━━━━━━━━━━━━━━━━━━━━━━━━╇━━━━━━━━━━━━━━━┩\n",
       "│ embedding (\u001b[38;5;33mEmbedding\u001b[0m)           │ ?                      │   \u001b[38;5;34m0\u001b[0m (unbuilt) │\n",
       "├─────────────────────────────────┼────────────────────────┼───────────────┤\n",
       "│ spatial_dropout1d               │ ?                      │             \u001b[38;5;34m0\u001b[0m │\n",
       "│ (\u001b[38;5;33mSpatialDropout1D\u001b[0m)              │                        │               │\n",
       "├─────────────────────────────────┼────────────────────────┼───────────────┤\n",
       "│ lstm (\u001b[38;5;33mLSTM\u001b[0m)                     │ ?                      │   \u001b[38;5;34m0\u001b[0m (unbuilt) │\n",
       "├─────────────────────────────────┼────────────────────────┼───────────────┤\n",
       "│ dense (\u001b[38;5;33mDense\u001b[0m)                   │ ?                      │   \u001b[38;5;34m0\u001b[0m (unbuilt) │\n",
       "├─────────────────────────────────┼────────────────────────┼───────────────┤\n",
       "│ dropout (\u001b[38;5;33mDropout\u001b[0m)               │ ?                      │             \u001b[38;5;34m0\u001b[0m │\n",
       "├─────────────────────────────────┼────────────────────────┼───────────────┤\n",
       "│ dense_1 (\u001b[38;5;33mDense\u001b[0m)                 │ ?                      │   \u001b[38;5;34m0\u001b[0m (unbuilt) │\n",
       "└─────────────────────────────────┴────────────────────────┴───────────────┘\n"
      ]
     },
     "metadata": {},
     "output_type": "display_data"
    },
    {
     "data": {
      "text/html": [
       "<pre style=\"white-space:pre;overflow-x:auto;line-height:normal;font-family:Menlo,'DejaVu Sans Mono',consolas,'Courier New',monospace\"><span style=\"font-weight: bold\"> Total params: </span><span style=\"color: #00af00; text-decoration-color: #00af00\">0</span> (0.00 B)\n",
       "</pre>\n"
      ],
      "text/plain": [
       "\u001b[1m Total params: \u001b[0m\u001b[38;5;34m0\u001b[0m (0.00 B)\n"
      ]
     },
     "metadata": {},
     "output_type": "display_data"
    },
    {
     "data": {
      "text/html": [
       "<pre style=\"white-space:pre;overflow-x:auto;line-height:normal;font-family:Menlo,'DejaVu Sans Mono',consolas,'Courier New',monospace\"><span style=\"font-weight: bold\"> Trainable params: </span><span style=\"color: #00af00; text-decoration-color: #00af00\">0</span> (0.00 B)\n",
       "</pre>\n"
      ],
      "text/plain": [
       "\u001b[1m Trainable params: \u001b[0m\u001b[38;5;34m0\u001b[0m (0.00 B)\n"
      ]
     },
     "metadata": {},
     "output_type": "display_data"
    },
    {
     "data": {
      "text/html": [
       "<pre style=\"white-space:pre;overflow-x:auto;line-height:normal;font-family:Menlo,'DejaVu Sans Mono',consolas,'Courier New',monospace\"><span style=\"font-weight: bold\"> Non-trainable params: </span><span style=\"color: #00af00; text-decoration-color: #00af00\">0</span> (0.00 B)\n",
       "</pre>\n"
      ],
      "text/plain": [
       "\u001b[1m Non-trainable params: \u001b[0m\u001b[38;5;34m0\u001b[0m (0.00 B)\n"
      ]
     },
     "metadata": {},
     "output_type": "display_data"
    }
   ],
   "source": [
    "def create_lstm_model(vocab_size, embedding_dim, max_length, lstm_units=64):\n",
    "    model = Sequential([\n",
    "        # Embedding layer\n",
    "        Embedding(vocab_size, embedding_dim, input_length=max_length),\n",
    "        \n",
    "        # Spatial dropout for regularization\n",
    "        SpatialDropout1D(0.2),\n",
    "        \n",
    "        # LSTM layer with dropout\n",
    "        LSTM(lstm_units, dropout=0.2, recurrent_dropout=0.2),\n",
    "        \n",
    "        # Dense layers\n",
    "        Dense(32, activation='relu'),\n",
    "        Dropout(0.5),\n",
    "        Dense(1, activation='sigmoid')  # Binary classification\n",
    "    ])\n",
    "    \n",
    "    return model\n",
    "\n",
    "# Model parameters\n",
    "vocab_size = 10000\n",
    "embedding_dim = 100\n",
    "lstm_units = 64\n",
    "\n",
    "# Create model\n",
    "model = create_lstm_model(vocab_size, embedding_dim, max_length, lstm_units)\n",
    "\n",
    "# Compile model\n",
    "model.compile(\n",
    "    optimizer='adam',\n",
    "    loss='binary_crossentropy',\n",
    "    metrics=['accuracy']\n",
    ")\n",
    "\n",
    "# Display model summary\n",
    "model.summary()"
   ]
  },
  {
   "cell_type": "code",
   "execution_count": 11,
   "id": "c64cde4b-f5f6-4937-bb8d-d83cde0ced62",
   "metadata": {},
   "outputs": [],
   "source": [
    "early_stopping = EarlyStopping(\n",
    "    monitor='val_loss',\n",
    "    patience=3,\n",
    "    restore_best_weights=True\n",
    ")\n",
    "\n",
    "# Model checkpoint to save best model\n",
    "checkpoint = ModelCheckpoint(\n",
    "    'best_lstm_model.h5',\n",
    "    monitor='val_accuracy',\n",
    "    save_best_only=True,\n",
    "    mode='max'\n",
    ")\n",
    "\n",
    "callbacks = [early_stopping, checkpoint]"
   ]
  },
  {
   "cell_type": "code",
   "execution_count": 12,
   "id": "d197cf6e-e243-42f6-ab4f-65b157d02273",
   "metadata": {},
   "outputs": [
    {
     "name": "stdout",
     "output_type": "stream",
     "text": [
      "Starting training...\n",
      "Epoch 1/10\n",
      "\u001b[1m781/782\u001b[0m \u001b[32m━━━━━━━━━━━━━━━━━━━\u001b[0m\u001b[37m━\u001b[0m \u001b[1m0s\u001b[0m 58ms/step - accuracy: 0.5888 - loss: 0.6635"
     ]
    },
    {
     "name": "stderr",
     "output_type": "stream",
     "text": [
      "WARNING:absl:You are saving your model as an HDF5 file via `model.save()` or `keras.saving.save_model(model)`. This file format is considered legacy. We recommend using instead the native Keras format, e.g. `model.save('my_model.keras')` or `keras.saving.save_model(model, 'my_model.keras')`. \n"
     ]
    },
    {
     "name": "stdout",
     "output_type": "stream",
     "text": [
      "\u001b[1m782/782\u001b[0m \u001b[32m━━━━━━━━━━━━━━━━━━━━\u001b[0m\u001b[37m\u001b[0m \u001b[1m55s\u001b[0m 68ms/step - accuracy: 0.5890 - loss: 0.6633 - val_accuracy: 0.6568 - val_loss: 0.7066\n",
      "Epoch 2/10\n",
      "\u001b[1m781/782\u001b[0m \u001b[32m━━━━━━━━━━━━━━━━━━━\u001b[0m\u001b[37m━\u001b[0m \u001b[1m0s\u001b[0m 56ms/step - accuracy: 0.7066 - loss: 0.5814"
     ]
    },
    {
     "name": "stderr",
     "output_type": "stream",
     "text": [
      "WARNING:absl:You are saving your model as an HDF5 file via `model.save()` or `keras.saving.save_model(model)`. This file format is considered legacy. We recommend using instead the native Keras format, e.g. `model.save('my_model.keras')` or `keras.saving.save_model(model, 'my_model.keras')`. \n"
     ]
    },
    {
     "name": "stdout",
     "output_type": "stream",
     "text": [
      "\u001b[1m782/782\u001b[0m \u001b[32m━━━━━━━━━━━━━━━━━━━━\u001b[0m\u001b[37m\u001b[0m \u001b[1m52s\u001b[0m 66ms/step - accuracy: 0.7067 - loss: 0.5813 - val_accuracy: 0.7755 - val_loss: 0.5063\n",
      "Epoch 3/10\n",
      "\u001b[1m781/782\u001b[0m \u001b[32m━━━━━━━━━━━━━━━━━━━\u001b[0m\u001b[37m━\u001b[0m \u001b[1m0s\u001b[0m 59ms/step - accuracy: 0.8047 - loss: 0.4612"
     ]
    },
    {
     "name": "stderr",
     "output_type": "stream",
     "text": [
      "WARNING:absl:You are saving your model as an HDF5 file via `model.save()` or `keras.saving.save_model(model)`. This file format is considered legacy. We recommend using instead the native Keras format, e.g. `model.save('my_model.keras')` or `keras.saving.save_model(model, 'my_model.keras')`. \n"
     ]
    },
    {
     "name": "stdout",
     "output_type": "stream",
     "text": [
      "\u001b[1m782/782\u001b[0m \u001b[32m━━━━━━━━━━━━━━━━━━━━\u001b[0m\u001b[37m\u001b[0m \u001b[1m54s\u001b[0m 70ms/step - accuracy: 0.8047 - loss: 0.4612 - val_accuracy: 0.8044 - val_loss: 0.4377\n",
      "Epoch 4/10\n",
      "\u001b[1m782/782\u001b[0m \u001b[32m━━━━━━━━━━━━━━━━━━━━\u001b[0m\u001b[37m\u001b[0m \u001b[1m53s\u001b[0m 68ms/step - accuracy: 0.8658 - loss: 0.3486 - val_accuracy: 0.8044 - val_loss: 0.4279\n",
      "Epoch 5/10\n",
      "\u001b[1m782/782\u001b[0m \u001b[32m━━━━━━━━━━━━━━━━━━━━\u001b[0m\u001b[37m\u001b[0m \u001b[1m57s\u001b[0m 72ms/step - accuracy: 0.8989 - loss: 0.2759 - val_accuracy: 0.7964 - val_loss: 0.4564\n",
      "Epoch 6/10\n",
      "\u001b[1m782/782\u001b[0m \u001b[32m━━━━━━━━━━━━━━━━━━━━\u001b[0m\u001b[37m\u001b[0m \u001b[1m59s\u001b[0m 76ms/step - accuracy: 0.9232 - loss: 0.2260 - val_accuracy: 0.7987 - val_loss: 0.5156\n",
      "Epoch 7/10\n",
      "\u001b[1m782/782\u001b[0m \u001b[32m━━━━━━━━━━━━━━━━━━━━\u001b[0m\u001b[37m\u001b[0m \u001b[1m61s\u001b[0m 78ms/step - accuracy: 0.9464 - loss: 0.1680 - val_accuracy: 0.7967 - val_loss: 0.6093\n",
      "Training completed!\n"
     ]
    }
   ],
   "source": [
    "print(\"Starting training...\")\n",
    "history = model.fit(\n",
    "    x_train, y_train,\n",
    "    batch_size=32,\n",
    "    epochs=10,\n",
    "    validation_data=(x_test, y_test),\n",
    "    callbacks=callbacks,\n",
    "    verbose=1\n",
    ")\n",
    "\n",
    "print(\"Training completed!\")"
   ]
  },
  {
   "cell_type": "code",
   "execution_count": 13,
   "id": "61c05349-97c0-4095-a8d6-660d0c43e8e6",
   "metadata": {},
   "outputs": [
    {
     "name": "stdout",
     "output_type": "stream",
     "text": [
      "\u001b[1m782/782\u001b[0m \u001b[32m━━━━━━━━━━━━━━━━━━━━\u001b[0m\u001b[37m\u001b[0m \u001b[1m9s\u001b[0m 11ms/step\n",
      "Test Accuracy: 0.8044\n",
      "\n",
      "Classification Report:\n",
      "              precision    recall  f1-score   support\n",
      "\n",
      "    Negative       0.81      0.80      0.80     12500\n",
      "    Positive       0.80      0.81      0.81     12500\n",
      "\n",
      "    accuracy                           0.80     25000\n",
      "   macro avg       0.80      0.80      0.80     25000\n",
      "weighted avg       0.80      0.80      0.80     25000\n",
      "\n"
     ]
    }
   ],
   "source": [
    "model.load_weights('best_lstm_model.h5')\n",
    "\n",
    "# Make predictions\n",
    "y_pred = model.predict(x_test)\n",
    "y_pred_binary = (y_pred > 0.5).astype(int)\n",
    "\n",
    "# Calculate metrics\n",
    "accuracy = accuracy_score(y_test, y_pred_binary)\n",
    "print(f\"Test Accuracy: {accuracy:.4f}\")\n",
    "\n",
    "# Classification report\n",
    "print(\"\\nClassification Report:\")\n",
    "print(classification_report(y_test, y_pred_binary, target_names=['Negative', 'Positive']))"
   ]
  },
  {
   "cell_type": "code",
   "execution_count": 14,
   "id": "c5a07277-bafd-4b45-9961-e227ceab79af",
   "metadata": {},
   "outputs": [
    {
     "data": {
      "image/png": "[encoded data removed]",
      "text/plain": [
       "<Figure size 1200x400 with 2 Axes>"
      ]
     },
     "metadata": {},
     "output_type": "display_data"
    }
   ],
   "source": [
    "plt.figure(figsize=(12, 4))\n",
    "\n",
    "# Plot training & validation accuracy\n",
    "plt.subplot(1, 2, 1)\n",
    "plt.plot(history.history['accuracy'], label='Training Accuracy')\n",
    "plt.plot(history.history['val_accuracy'], label='Validation Accuracy')\n",
    "plt.title('Model Accuracy')\n",
    "plt.xlabel('Epoch')\n",
    "plt.ylabel('Accuracy')\n",
    "plt.legend()\n",
    "\n",
    "# Plot training & validation loss\n",
    "plt.subplot(1, 2, 2)\n",
    "plt.plot(history.history['loss'], label='Training Loss')\n",
    "plt.plot(history.history['val_loss'], label='Validation Loss')\n",
    "plt.title('Model Loss')\n",
    "plt.xlabel('Epoch')\n",
    "plt.ylabel('Loss')\n",
    "plt.legend()\n",
    "\n",
    "plt.tight_layout()\n",
    "plt.show()"
   ]
  },
  {
   "cell_type": "code",
   "execution_count": 15,
   "id": "0ef47a52-eed3-41e8-8d1f-4b79a4ccdc46",
   "metadata": {},
   "outputs": [
    {
     "data": {
      "image/png": "[encoded data removed]",
      "text/plain": [
       "<Figure size 600x400 with 2 Axes>"
      ]
     },
     "metadata": {},
     "output_type": "display_data"
    }
   ],
   "source": [
    "cm = confusion_matrix(y_test, y_pred_binary)\n",
    "plt.figure(figsize=(6, 4))\n",
    "sns.heatmap(cm, annot=True, fmt='d', cmap='Blues', \n",
    "            xticklabels=['Negative', 'Positive'], \n",
    "            yticklabels=['Negative', 'Positive'])\n",
    "plt.title('Confusion Matrix')\n",
    "plt.xlabel('Predicted')\n",
    "plt.ylabel('Actual')\n",
    "plt.show()"
   ]
  },
  {
   "cell_type": "code",
   "execution_count": 17,
   "id": "c2bbd356-dec8-490e-9a48-8d1361264b56",
   "metadata": {},
   "outputs": [],
   "source": [
    "def predict_sentiment(text, model, word_index, data_type, max_length=100):\n",
    "    \"\"\"\n",
    "    Predict sentiment of new text\n",
    "    \"\"\"\n",
    "    # Preprocess text\n",
    "    text = text.lower()\n",
    "    text = re.sub(r'[^a-zA-Z\\s]', '', text)\n",
    "    words = text.split()\n",
    "    \n",
    "    # Convert to sequence\n",
    "    sequence = []\n",
    "    \n",
    "    if data_type == \"imdb\":\n",
    "        # For IMDB dataset, add offset of 3 for reserved indices\n",
    "        for word in words:\n",
    "            if word in word_index:\n",
    "                sequence.append(word_index[word] + 3)\n",
    "            else:\n",
    "                sequence.append(2)  # OOV token\n",
    "    else:\n",
    "        # For synthetic/custom data\n",
    "        for word in words:\n",
    "            if word in word_index:\n",
    "                sequence.append(word_index[word])\n",
    "            else:\n",
    "                sequence.append(1)  # OOV token\n",
    "    \n",
    "    # Pad sequence\n",
    "    sequence = pad_sequences([sequence], maxlen=max_length, padding='post', truncating='post')\n",
    "    \n",
    "    # Make prediction\n",
    "    prediction = model.predict(sequence, verbose=0)[0][0]\n",
    "    \n",
    "    # Interpret result\n",
    "    if prediction > 0.5:\n",
    "        return f\"Positive sentiment (confidence: {prediction:.3f})\"\n",
    "    else:\n",
    "        return f\"Negative sentiment (confidence: {1-prediction:.3f})\"\n",
    "\n",
    "def predict_batch_sentiment(texts, model, word_index, data_type, max_length=100):\n",
    "    \"\"\"\n",
    "    Predict sentiment for multiple texts at once\n",
    "    \"\"\"\n",
    "    sequences = []\n",
    "    \n",
    "    for text in texts:\n",
    "        # Preprocess text\n",
    "        text = text.lower()\n",
    "        text = re.sub(r'[^a-zA-Z\\s]', '', text)\n",
    "        words = text.split()\n",
    "        \n",
    "        # Convert to sequence\n",
    "        sequence = []\n",
    "        \n",
    "        if data_type == \"imdb\":\n",
    "            for word in words:\n",
    "                if word in word_index:\n",
    "                    sequence.append(word_index[word] + 3)\n",
    "                else:\n",
    "                    sequence.append(2)  # OOV token\n",
    "        else:\n",
    "            for word in words:\n",
    "                if word in word_index:\n",
    "                    sequence.append(word_index[word])\n",
    "                else:\n",
    "                    sequence.append(1)  # OOV token\n",
    "        \n",
    "        sequences.append(sequence)\n",
    "    \n",
    "    # Pad sequences\n",
    "    sequences = pad_sequences(sequences, maxlen=max_length, padding='post', truncating='post')\n",
    "    \n",
    "    # Make predictions\n",
    "    predictions = model.predict(sequences, verbose=0)\n",
    "    \n",
    "    results = []\n",
    "    for i, pred in enumerate(predictions):\n",
    "        confidence = pred[0]\n",
    "        if confidence > 0.5:\n",
    "            results.append({\n",
    "                'text': texts[i],\n",
    "                'sentiment': 'Positive',\n",
    "                'confidence': confidence\n",
    "            })\n",
    "        else:\n",
    "            results.append({\n",
    "                'text': texts[i],\n",
    "                'sentiment': 'Negative',\n",
    "                'confidence': 1 - confidence\n",
    "            })\n",
    "    \n",
    "    return results"
   ]
  },
  {
   "cell_type": "code",
   "execution_count": 18,
   "id": "aa59bf84-ac2e-4552-a097-bfefdc03a819",
   "metadata": {},
   "outputs": [
    {
     "name": "stdout",
     "output_type": "stream",
     "text": [
      "Testing sentiment predictions:\n",
      "============================================================\n",
      "1. Text: This movie was absolutely fantastic! I loved every minute of it.\n",
      "   Prediction: Positive sentiment (confidence: 0.973)\n",
      "------------------------------------------------------------\n",
      "2. Text: Terrible film, waste of time and money.\n",
      "   Prediction: Negative sentiment (confidence: 0.721)\n",
      "------------------------------------------------------------\n",
      "3. Text: It was okay, nothing special but not bad either.\n",
      "   Prediction: Negative sentiment (confidence: 0.647)\n",
      "------------------------------------------------------------\n",
      "4. Text: Outstanding performance by the actors, highly recommend!\n",
      "   Prediction: Positive sentiment (confidence: 0.973)\n",
      "------------------------------------------------------------\n",
      "5. Text: Boring and predictable plot, very disappointed.\n",
      "   Prediction: Negative sentiment (confidence: 0.603)\n",
      "------------------------------------------------------------\n",
      "\n",
      "Batch predictions:\n",
      "============================================================\n",
      "1. Positive (0.973): This movie was absolutely fantastic! I loved every...\n",
      "2. Negative (0.721): Terrible film, waste of time and money....\n",
      "3. Negative (0.647): It was okay, nothing special but not bad either....\n",
      "4. Positive (0.973): Outstanding performance by the actors, highly reco...\n",
      "5. Negative (0.603): Boring and predictable plot, very disappointed....\n",
      "6. Positive (0.973): Amazing cinematography and brilliant storytelling....\n",
      "7. Positive (0.531): The worst movie I have ever seen in my life....\n",
      "8. Positive (0.710): Good movie with decent acting and plot....\n",
      "9. Positive (0.973): Excellent direction and superb character developme...\n",
      "10. Positive (0.615): Completely boring and uninspiring film....\n"
     ]
    }
   ],
   "source": [
    "sample_texts = [\n",
    "    \"This movie was absolutely fantastic! I loved every minute of it.\",\n",
    "    \"Terrible film, waste of time and money.\",\n",
    "    \"It was okay, nothing special but not bad either.\",\n",
    "    \"Outstanding performance by the actors, highly recommend!\",\n",
    "    \"Boring and predictable plot, very disappointed.\",\n",
    "    \"Amazing cinematography and brilliant storytelling.\",\n",
    "    \"The worst movie I have ever seen in my life.\",\n",
    "    \"Good movie with decent acting and plot.\",\n",
    "    \"Excellent direction and superb character development.\",\n",
    "    \"Completely boring and uninspiring film.\"\n",
    "]\n",
    "\n",
    "print(\"Testing sentiment predictions:\")\n",
    "print(\"=\" * 60)\n",
    "\n",
    "# Test individual predictions\n",
    "for i, text in enumerate(sample_texts[:5], 1):\n",
    "    result = predict_sentiment(text, model, word_index, data_type, max_length)\n",
    "    print(f\"{i}. Text: {text}\")\n",
    "    print(f\"   Prediction: {result}\")\n",
    "    print(\"-\" * 60)\n",
    "\n",
    "print(\"\\nBatch predictions:\")\n",
    "print(\"=\" * 60)\n",
    "\n",
    "# Test batch predictions\n",
    "batch_results = predict_batch_sentiment(sample_texts, model, word_index, data_type, max_length)\n",
    "for i, result in enumerate(batch_results, 1):\n",
    "    print(f\"{i}. {result['sentiment']} ({result['confidence']:.3f}): {result['text'][:50]}...\")"
   ]
  },
  {
   "cell_type": "code",
   "execution_count": 19,
   "id": "80ce1fb5-2a03-4b19-ac3f-6529809b57b9",
   "metadata": {},
   "outputs": [
    {
     "data": {
      "text/plain": [
       "\"\\nadvanced_model = create_advanced_lstm_model(vocab_size, embedding_dim, max_length)\\nadvanced_model.compile(\\n    optimizer='adam',\\n    loss='binary_crossentropy',\\n    metrics=['accuracy']\\n)\\nadvanced_model.summary()\\n\""
      ]
     },
     "execution_count": 19,
     "metadata": {},
     "output_type": "execute_result"
    }
   ],
   "source": [
    "def create_advanced_lstm_model(vocab_size, embedding_dim, max_length):\n",
    "    model = Sequential([\n",
    "        # Embedding layer\n",
    "        Embedding(vocab_size, embedding_dim, input_length=max_length),\n",
    "        \n",
    "        # Spatial dropout\n",
    "        SpatialDropout1D(0.3),\n",
    "        \n",
    "        # Bidirectional LSTM layers\n",
    "        tf.keras.layers.Bidirectional(LSTM(64, return_sequences=True, dropout=0.3)),\n",
    "        tf.keras.layers.Bidirectional(LSTM(32, dropout=0.3)),\n",
    "        \n",
    "        # Dense layers with batch normalization\n",
    "        Dense(64, activation='relu'),\n",
    "        tf.keras.layers.BatchNormalization(),\n",
    "        Dropout(0.5),\n",
    "        \n",
    "        Dense(32, activation='relu'),\n",
    "        Dropout(0.3),\n",
    "        \n",
    "        Dense(1, activation='sigmoid')\n",
    "    ])\n",
    "    \n",
    "    return model\n",
    "\n",
    "# Uncomment to use advanced model\n",
    "\"\"\"\n",
    "advanced_model = create_advanced_lstm_model(vocab_size, embedding_dim, max_length)\n",
    "advanced_model.compile(\n",
    "    optimizer='adam',\n",
    "    loss='binary_crossentropy',\n",
    "    metrics=['accuracy']\n",
    ")\n",
    "advanced_model.summary()\n",
    "\"\"\"\n"
   ]
  },
  {
   "cell_type": "code",
   "execution_count": 20,
   "id": "3f404e90-b6a9-43be-bb60-8ce840e2e6e8",
   "metadata": {},
   "outputs": [
    {
     "name": "stderr",
     "output_type": "stream",
     "text": [
      "WARNING:absl:You are saving your model as an HDF5 file via `model.save()` or `keras.saving.save_model(model)`. This file format is considered legacy. We recommend using instead the native Keras format, e.g. `model.save('my_model.keras')` or `keras.saving.save_model(model, 'my_model.keras')`. \n"
     ]
    },
    {
     "name": "stdout",
     "output_type": "stream",
     "text": [
      "Model saved successfully!\n"
     ]
    }
   ],
   "source": [
    "model.save('sentiment_lstm_model.h5')\n",
    "print(\"Model saved successfully!\")"
   ]
  },
  {
   "cell_type": "code",
   "execution_count": null,
   "id": "70be341c-c99a-4f22-bfd2-740a396b86d2",
   "metadata": {},
   "outputs": [],
   "source": [
    "def analyze_model_performance(model, x_test, y_test):\n",
    "    predictions = model.predict(x_test)\n",
    "    pred_binary = (predictions > 0.5).astype(int)\n",
    "    \n",
    "    # Calculate various metrics\n",
    "    from sklearn.metrics import precision_score, recall_score, f1_score, roc_auc_score\n",
    "    \n",
    "    accuracy = accuracy_score(y_test, pred_binary)\n",
    "    precision = precision_score(y_test, pred_binary)\n",
    "    recall = recall_score(y_test, pred_binary)\n",
    "    f1 = f1_score(y_test, pred_binary)\n",
    "    auc = roc_auc_score(y_test, predictions)\n",
    "    \n",
    "    print(\"Model Performance Metrics:\")\n",
    "    print(f\"Accuracy: {accuracy:.4f}\")\n",
    "    print(f\"Precision: {precision:.4f}\")\n",
    "    print(f\"Recall: {recall:.4f}\")\n",
    "    print(f\"F1-Score: {f1:.4f}\")\n",
    "    print(f\"AUC-ROC: {auc:.4f}\")\n",
    "    \n",
    "    return {\n",
    "        'accuracy': accuracy,\n",
    "        'precision': precision,\n",
    "        'recall': recall,\n",
    "        'f1': f1,\n",
    "        'auc': auc\n",
    "    }\n",
    "\n",
    "# Analyze performance\n",
    "performance_metrics = analyze_model_performance(model, x_test, y_test)"
   ]
  }
 ],
 "metadata": {
  "kernelspec": {
   "display_name": "Python 3 (ipykernel)",
   "language": "python",
   "name": "python3"
  },
  "language_info": {
   "codemirror_mode": {
    "name": "ipython",
    "version": 3
   },
   "file_extension": ".py",
   "mimetype": "text/x-python",
   "name": "python",
   "nbconvert_exporter": "python",
   "pygments_lexer": "ipython3",
   "version": "3.12.9"
  }
 },
 "nbformat": 4,
 "nbformat_minor": 5
}
